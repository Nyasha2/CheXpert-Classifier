{
  "cells": [
    {
      "cell_type": "code",
      "execution_count": null,
      "metadata": {
        "id": "ZGmv4ZshBnUf"
      },
      "outputs": [],
      "source": [
        "import numpy as np\n",
        "import matplotlib.pyplot as plt\n",
        "%matplotlib inline"
      ]
    },
    {
      "cell_type": "code",
      "execution_count": null,
      "metadata": {
        "id": "Bcu_UdOWqkdc"
      },
      "outputs": [],
      "source": [
        "import numpy as np\n",
        "import pandas as pd\n",
        "from matplotlib.image import imread\n",
        "\n",
        "img_path = \"/groups/CS156b/data/train/pid27777/study1/view1_frontal.jpg\"\n",
        "csv_test_path = \"/groups/CS156b/data/student_labels/train2023.csv\"\n",
        "img = imread(img_path)"
      ]
    },
    {
      "cell_type": "code",
      "execution_count": null,
      "metadata": {
        "id": "PA7xk2a7q0Hv"
      },
      "outputs": [],
      "source": [
        "csv_pd = pd.read_csv(csv_test_path)\n",
        "count = 0\n",
        "training_data = []\n",
        "for path in csv_pd[\"Path\"]:\n",
        "    count += 1\n",
        "    if count > 301:\n",
        "        break\n",
        "    else:\n",
        "        img = imread(\"/groups/CS156b/data/\" + path)\n",
        "        training_data.append(img)"
      ]
    },
    {
      "cell_type": "markdown",
      "metadata": {
        "id": "pT4XX_RuBnUf"
      },
      "source": [
        "## 3D - Convolutional network"
      ]
    },
    {
      "cell_type": "markdown",
      "metadata": {
        "id": "rPvHt-ilBnUf"
      },
      "source": [
        "As in problem 2, we have conveniently provided for your use code that loads and preprocesses the MNIST data."
      ]
    },
    {
      "cell_type": "code",
      "execution_count": null,
      "metadata": {
        "colab": {
          "base_uri": "https://localhost:8080/"
        },
        "id": "U7imKxsoBnUf",
        "outputId": "47bab03c-bbaf-4b5a-8c19-66e5216ce5f3"
      },
      "outputs": [
        {
          "name": "stdout",
          "output_type": "stream",
          "text": [
            "Downloading http://yann.lecun.com/exdb/mnist/train-images-idx3-ubyte.gz\n",
            "Downloading http://yann.lecun.com/exdb/mnist/train-images-idx3-ubyte.gz to data/MNIST/raw/train-images-idx3-ubyte.gz\n"
          ]
        },
        {
          "name": "stderr",
          "output_type": "stream",
          "text": [
            "100%|██████████| 9912422/9912422 [00:00<00:00, 42917837.87it/s]\n"
          ]
        },
        {
          "name": "stdout",
          "output_type": "stream",
          "text": [
            "Extracting data/MNIST/raw/train-images-idx3-ubyte.gz to data/MNIST/raw\n",
            "\n",
            "Downloading http://yann.lecun.com/exdb/mnist/train-labels-idx1-ubyte.gz\n",
            "Downloading http://yann.lecun.com/exdb/mnist/train-labels-idx1-ubyte.gz to data/MNIST/raw/train-labels-idx1-ubyte.gz\n"
          ]
        },
        {
          "name": "stderr",
          "output_type": "stream",
          "text": [
            "100%|██████████| 28881/28881 [00:00<00:00, 27033183.18it/s]"
          ]
        },
        {
          "name": "stdout",
          "output_type": "stream",
          "text": [
            "Extracting data/MNIST/raw/train-labels-idx1-ubyte.gz to data/MNIST/raw\n",
            "\n",
            "Downloading http://yann.lecun.com/exdb/mnist/t10k-images-idx3-ubyte.gz\n"
          ]
        },
        {
          "name": "stderr",
          "output_type": "stream",
          "text": [
            "\n"
          ]
        },
        {
          "name": "stdout",
          "output_type": "stream",
          "text": [
            "Downloading http://yann.lecun.com/exdb/mnist/t10k-images-idx3-ubyte.gz to data/MNIST/raw/t10k-images-idx3-ubyte.gz\n"
          ]
        },
        {
          "name": "stderr",
          "output_type": "stream",
          "text": [
            "100%|██████████| 1648877/1648877 [00:00<00:00, 21009324.31it/s]"
          ]
        },
        {
          "name": "stdout",
          "output_type": "stream",
          "text": [
            "Extracting data/MNIST/raw/t10k-images-idx3-ubyte.gz to data/MNIST/raw\n"
          ]
        },
        {
          "name": "stderr",
          "output_type": "stream",
          "text": [
            "\n"
          ]
        },
        {
          "name": "stdout",
          "output_type": "stream",
          "text": [
            "\n",
            "Downloading http://yann.lecun.com/exdb/mnist/t10k-labels-idx1-ubyte.gz\n",
            "Downloading http://yann.lecun.com/exdb/mnist/t10k-labels-idx1-ubyte.gz to data/MNIST/raw/t10k-labels-idx1-ubyte.gz\n"
          ]
        },
        {
          "name": "stderr",
          "output_type": "stream",
          "text": [
            "100%|██████████| 4542/4542 [00:00<00:00, 14564624.44it/s]"
          ]
        },
        {
          "name": "stdout",
          "output_type": "stream",
          "text": [
            "Extracting data/MNIST/raw/t10k-labels-idx1-ubyte.gz to data/MNIST/raw\n",
            "\n"
          ]
        },
        {
          "name": "stderr",
          "output_type": "stream",
          "text": [
            "\n"
          ]
        }
      ],
      "source": [
        "# load MNIST data into PyTorch format\n",
        "import torch\n",
        "import torchvision\n",
        "import torchvision.transforms as transforms\n",
        "\n",
        "# set batch size\n",
        "batch_size = 32\n",
        "\n",
        "# load training data downloaded into data/ folder\n",
        "mnist_training_data = torchvision.datasets.MNIST('data/', train=True, download=True,\n",
        "                                                transform=transforms.ToTensor())\n",
        "# transforms.ToTensor() converts batch of images to 4-D tensor and normalizes 0-255 to 0-1.0\n",
        "training_data_loader = torch.utils.data.DataLoader(mnist_training_data,\n",
        "                                                  batch_size=batch_size,\n",
        "                                                  shuffle=True)\n",
        "\n",
        "# load test data\n",
        "mnist_test_data = torchvision.datasets.MNIST('data/', train=False, download=True,\n",
        "                                                transform=transforms.ToTensor())\n",
        "test_data_loader = torch.utils.data.DataLoader(mnist_test_data,\n",
        "                                                  batch_size=batch_size,\n",
        "                                                  shuffle=False)"
      ]
    },
    {
      "cell_type": "code",
      "execution_count": null,
      "metadata": {
        "colab": {
          "base_uri": "https://localhost:8080/"
        },
        "id": "F58fZqzmBnUg",
        "outputId": "ddefc81f-48b5-4d43-d7e9-9efd0975b257"
      },
      "outputs": [
        {
          "name": "stdout",
          "output_type": "stream",
          "text": [
            "1875 training batches\n",
            "60000 training samples\n",
            "313 validation batches\n"
          ]
        }
      ],
      "source": [
        "# look at the number of batches per epoch for training and validation\n",
        "print(f'{len(training_data_loader)} training batches')\n",
        "print(f'{len(training_data_loader) * batch_size} training samples')\n",
        "print(f'{len(test_data_loader)} validation batches')"
      ]
    },
    {
      "cell_type": "code",
      "execution_count": null,
      "metadata": {
        "colab": {
          "base_uri": "https://localhost:8080/"
        },
        "id": "P_2R3Dg0BnUg",
        "outputId": "9a9fe01e-c2d1-457d-9c2e-c22ea5d6ca2f"
      },
      "outputs": [
        {
          "name": "stdout",
          "output_type": "stream",
          "text": [
            "Sequential(\n",
            "  (0): Conv2d(1, 32, kernel_size=(3, 3), stride=(1, 1))\n",
            "  (1): ReLU()\n",
            "  (2): MaxPool2d(kernel_size=2, stride=2, padding=0, dilation=1, ceil_mode=False)\n",
            "  (3): Dropout(p=0.125, inplace=False)\n",
            "  (4): Conv2d(32, 32, kernel_size=(3, 3), stride=(1, 1))\n",
            "  (5): BatchNorm2d(32, eps=1e-05, momentum=0.1, affine=True, track_running_stats=True)\n",
            "  (6): ReLU()\n",
            "  (7): MaxPool2d(kernel_size=2, stride=2, padding=0, dilation=1, ceil_mode=False)\n",
            "  (8): Dropout(p=0.125, inplace=False)\n",
            "  (9): Flatten(start_dim=1, end_dim=-1)\n",
            "  (10): Linear(in_features=800, out_features=64, bias=True)\n",
            "  (11): ReLU()\n",
            "  (12): Linear(in_features=64, out_features=10, bias=True)\n",
            ")\n"
          ]
        }
      ],
      "source": [
        "# sample model\n",
        "import torch.nn as nn\n",
        "\n",
        "model = nn.Sequential(\n",
        "    nn.Conv2d(1, 32, kernel_size=(3,3)),\n",
        "    nn.ReLU(),\n",
        "    nn.MaxPool2d(2),\n",
        "    nn.Dropout(p=0.125),\n",
        "\n",
        "    nn.Conv2d(32, 32, kernel_size=(3,3)),\n",
        "    nn.BatchNorm2d(32),\n",
        "    nn.ReLU(),\n",
        "    nn.MaxPool2d(2),\n",
        "    nn.Dropout(p=0.125),\n",
        "\n",
        "    nn.Flatten(),\n",
        "    nn.Linear(800, 64),\n",
        "    nn.ReLU(),\n",
        "    nn.Linear(64, 10)\n",
        "    # PyTorch implementation of cross-entropy loss includes softmax layer\n",
        ")\n",
        "\n",
        "print(model)"
      ]
    },
    {
      "cell_type": "code",
      "execution_count": null,
      "metadata": {
        "colab": {
          "base_uri": "https://localhost:8080/"
        },
        "id": "kQ-EKUYaBnUg",
        "outputId": "7d8ddf06-6b83-4a75-e5ce-f6753be2ab59"
      },
      "outputs": [
        {
          "name": "stdout",
          "output_type": "stream",
          "text": [
            "torch.Size([32, 1, 3, 3])\n",
            "torch.Size([32])\n",
            "torch.Size([32, 32, 3, 3])\n",
            "torch.Size([32])\n",
            "torch.Size([32])\n",
            "torch.Size([32])\n",
            "torch.Size([64, 800])\n",
            "torch.Size([64])\n",
            "torch.Size([10, 64])\n",
            "torch.Size([10])\n"
          ]
        }
      ],
      "source": [
        "# why don't we take a look at the shape of the weights for each layer\n",
        "for p in model.parameters():\n",
        "    print(p.data.shape)"
      ]
    },
    {
      "cell_type": "code",
      "execution_count": null,
      "metadata": {
        "colab": {
          "base_uri": "https://localhost:8080/"
        },
        "id": "uCIpB9dBBnUh",
        "outputId": "1b30e620-91a5-4828-df70-2304f83e5411"
      },
      "outputs": [
        {
          "name": "stdout",
          "output_type": "stream",
          "text": [
            "total params: 61546\n"
          ]
        }
      ],
      "source": [
        "# our model has some # of parameters:\n",
        "count = 0\n",
        "for p in model.parameters():\n",
        "    n_params = np.prod(list(p.data.shape)).item()\n",
        "    count += n_params\n",
        "print(f'total params: {count}')"
      ]
    },
    {
      "cell_type": "code",
      "execution_count": null,
      "metadata": {
        "id": "OIR47yRnBnUh"
      },
      "outputs": [],
      "source": [
        "# For a multi-class classification problem\n",
        "import torch.optim as optim\n",
        "criterion = nn.CrossEntropyLoss()\n",
        "optimizer = optim.RMSprop(model.parameters())"
      ]
    },
    {
      "cell_type": "code",
      "execution_count": null,
      "metadata": {
        "colab": {
          "base_uri": "https://localhost:8080/"
        },
        "id": "fWVyDKJjBnUh",
        "outputId": "526ccc89-18bb-41a6-c207-e9e5b37133bd"
      },
      "outputs": [
        {
          "name": "stdout",
          "output_type": "stream",
          "text": [
            "Epoch 1/10:...........\n",
            "\tloss: 0.0801, acc: 0.9768, val loss: 0.0538, val acc: 0.9837\n",
            "Epoch 2/10:...........\n",
            "\tloss: 0.0690, acc: 0.9803, val loss: 0.0527, val acc: 0.9843\n",
            "Epoch 3/10:...........\n",
            "\tloss: 0.0623, acc: 0.9823, val loss: 0.0537, val acc: 0.9854\n",
            "Epoch 4/10:...........\n",
            "\tloss: 0.0620, acc: 0.9830, val loss: 0.0510, val acc: 0.9857\n",
            "Epoch 5/10:...........\n",
            "\tloss: 0.0592, acc: 0.9835, val loss: 0.0404, val acc: 0.9890\n",
            "Epoch 6/10:...........\n",
            "\tloss: 0.0577, acc: 0.9838, val loss: 0.0357, val acc: 0.9901\n",
            "Epoch 7/10:...........\n",
            "\tloss: 0.0540, acc: 0.9849, val loss: 0.0715, val acc: 0.9817\n",
            "Epoch 8/10:...........\n",
            "\tloss: 0.0569, acc: 0.9846, val loss: 0.0424, val acc: 0.9877\n",
            "Epoch 9/10:...........\n",
            "\tloss: 0.0529, acc: 0.9860, val loss: 0.0502, val acc: 0.9864\n",
            "Epoch 10/10:...........\n",
            "\tloss: 0.0515, acc: 0.9861, val loss: 0.0398, val acc: 0.9897\n"
          ]
        }
      ],
      "source": [
        "# Train the model for 10 epochs, iterating on the data in batches\n",
        "n_epochs = 10\n",
        "\n",
        "# store metrics\n",
        "training_accuracy_history = np.zeros([n_epochs, 1])\n",
        "training_loss_history = np.zeros([n_epochs, 1])\n",
        "validation_accuracy_history = np.zeros([n_epochs, 1])\n",
        "validation_loss_history = np.zeros([n_epochs, 1])\n",
        "\n",
        "for epoch in range(n_epochs):\n",
        "    print(f'Epoch {epoch+1}/10:', end='')\n",
        "    train_total = 0\n",
        "    train_correct = 0\n",
        "    # train\n",
        "    model.train()\n",
        "    for i, data in enumerate(training_data_loader):\n",
        "        images, labels = data\n",
        "        optimizer.zero_grad()\n",
        "        # forward pass\n",
        "        output = model(images)\n",
        "        # calculate categorical cross entropy loss\n",
        "        loss = criterion(output, labels)\n",
        "        # backward pass\n",
        "        loss.backward()\n",
        "        optimizer.step()\n",
        "\n",
        "        # track training accuracy\n",
        "        _, predicted = torch.max(output.data, 1)\n",
        "        train_total += labels.size(0)\n",
        "        train_correct += (predicted == labels).sum().item()\n",
        "        # track training loss\n",
        "        training_loss_history[epoch] += loss.item()\n",
        "        # progress update after 180 batches (~1/10 epoch for batch size 32)\n",
        "        if i % 180 == 0: print('.',end='')\n",
        "    training_loss_history[epoch] /= len(training_data_loader)\n",
        "    training_accuracy_history[epoch] = train_correct / train_total\n",
        "    print(f'\\n\\tloss: {training_loss_history[epoch,0]:0.4f}, acc: {training_accuracy_history[epoch,0]:0.4f}',end='')\n",
        "\n",
        "    # validate\n",
        "    test_total = 0\n",
        "    test_correct = 0\n",
        "    with torch.no_grad():\n",
        "        model.eval()\n",
        "        for i, data in enumerate(test_data_loader):\n",
        "            images, labels = data\n",
        "            # forward pass\n",
        "            output = model(images)\n",
        "            # find accuracy\n",
        "            _, predicted = torch.max(output.data, 1)\n",
        "            test_total += labels.size(0)\n",
        "            test_correct += (predicted == labels).sum().item()\n",
        "            # find loss\n",
        "            loss = criterion(output, labels)\n",
        "            validation_loss_history[epoch] += loss.item()\n",
        "        validation_loss_history[epoch] /= len(test_data_loader)\n",
        "        validation_accuracy_history[epoch] = test_correct / test_total\n",
        "    print(f', val loss: {validation_loss_history[epoch,0]:0.4f}, val acc: {validation_accuracy_history[epoch,0]:0.4f}')"
      ]
    },
    {
      "cell_type": "markdown",
      "metadata": {
        "id": "vEKWGBDxBnUh"
      },
      "source": [
        "Above, we output the training loss/accuracy as well as the validation loss and accuracy. Not bad! Let's see if you can do better."
      ]
    }
  ],
  "metadata": {
    "colab": {
      "provenance": []
    },
    "kernelspec": {
      "display_name": "Python 3",
      "language": "python",
      "name": "python3"
    },
    "language_info": {
      "codemirror_mode": {
        "name": "ipython",
        "version": 3
      },
      "file_extension": ".py",
      "mimetype": "text/x-python",
      "name": "python",
      "nbconvert_exporter": "python",
      "pygments_lexer": "ipython3",
      "version": "3.7.4"
    }
  },
  "nbformat": 4,
  "nbformat_minor": 0
}
